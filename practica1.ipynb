{
  "nbformat": 4,
  "nbformat_minor": 0,
  "metadata": {
    "colab": {
      "provenance": [],
      "authorship_tag": "ABX9TyOBCUrbmnKksbBLzlAYK2sk",
      "include_colab_link": true
    },
    "kernelspec": {
      "name": "python3",
      "display_name": "Python 3"
    },
    "language_info": {
      "name": "python"
    }
  },
  "cells": [
    {
      "cell_type": "markdown",
      "metadata": {
        "id": "view-in-github",
        "colab_type": "text"
      },
      "source": [
        "<a href=\"https://colab.research.google.com/github/a23308052690602-beep/unidad-2/blob/main/practica1.ipynb\" target=\"_parent\"><img src=\"https://colab.research.google.com/assets/colab-badge.svg\" alt=\"Open In Colab\"/></a>"
      ]
    },
    {
      "cell_type": "markdown",
      "source": [
        "¿que es pandas en python?\n",
        "pandas es una libreria o biblioteca de python que se utiliza para trabajar con conjuntos de datos que tienen funciones para analizar, limpiar, explorar y manipular datos.\n",
        "\n",
        "el nombre de \"pandas\" hace referencia a panel data y python data.\n",
        "\n",
        "fue creado en el 2008.\n",
        "\n",
        "¿por que utilizar pandas?\n",
        "pandas nos permite analizar big data y sacar conclusiones basado en teorias, las pandas pueden limpiar conjuntos de datos desordenados y hacerlos legibles y relevantes.\n",
        "\n",
        "los datos relevantes son muy importantes en la ciencia de datos.\n",
        "\n",
        "¿que podemos hacer con pandas?\n",
        "\n",
        "1.-saber si existe correlacion entre dos o mas columnas.\n",
        "\n",
        "2.-cual es el valor promedio.\n",
        "\n",
        "3.-valor maximo.\n",
        "\n",
        "4.-valor minimo.\n",
        "\n",
        "pandas tambien puede eliminar filas que no son relevantes o que contienen errores, como valores vacios. esto se llama limpieza de datos.\n",
        "\n",
        "-instalacion de pandas-\n",
        "\n",
        "si tiees python y pip instalado en un sistema instalado usando el siguiente comando.\n",
        "\n",
        "\n",
        "\n",
        "pip install pandas\n",
        "\n",
        "\n",
        " si este comando falla, utiliza una distribucion de python que ya tenga pandas instalado. una vez instalado pandas importalo a tus aplicaciones agregando una palabra clave:    import pandas\n",
        "\n",
        " ahora pandas esta importado y listo para usar.\n",
        "\n",
        " pandas como pd.\n",
        "\n",
        "\n",
        " crea un alias con la palabra as a importar pandas, ejemplo:\n",
        " import pandas as pd\n",
        "\n",
        " ahora que el paquete pandas puede denominarse pd en lugar de pandas\n",
        "\n",
        " comprobando la version de pandas la cadena de la version se almacena en el atributo\n",
        " --version--\n",
        "\n",
        " ejemolo:"
      ],
      "metadata": {
        "id": "vw1JTI0uTg_c"
      }
    },
    {
      "cell_type": "code",
      "source": [
        "import pandas as pd\n",
        "print(pd.__version__)"
      ],
      "metadata": {
        "colab": {
          "base_uri": "https://localhost:8080/"
        },
        "id": "TFzuT99JXU3e",
        "outputId": "f42500bd-25ac-4633-f121-30a0c75b280f"
      },
      "execution_count": 1,
      "outputs": [
        {
          "output_type": "stream",
          "name": "stdout",
          "text": [
            "2.2.2\n"
          ]
        }
      ]
    },
    {
      "cell_type": "markdown",
      "source": [
        "ejercicio: ¿cual de las siguientes 3 operaciones es la biblioteca oficial de pandas?\n",
        "\n",
        "1.-import p\n",
        "\n",
        "*2.-import pandas  \n",
        "\n",
        "3.-import pan\n",
        "\n",
        "\n",
        "pandas serie ¿que es una serie? una serie en pandas es como una columna en una tabla, es una matriz unidimensional que contiene datos de cualquier tipo                         \n",
        "\n",
        "\n",
        "ejemplo:"
      ],
      "metadata": {
        "id": "TSzp2AH6Xcqt"
      }
    },
    {
      "cell_type": "code",
      "source": [
        "import pandas as pd\n",
        "a=[1,7,2]\n",
        "myvar=pd.Series(a)\n",
        "print(myvar)"
      ],
      "metadata": {
        "colab": {
          "base_uri": "https://localhost:8080/"
        },
        "id": "vZ_0f3A7YQif",
        "outputId": "6fd61b30-9106-41b8-87b2-f13e388a48cb"
      },
      "execution_count": 2,
      "outputs": [
        {
          "output_type": "stream",
          "name": "stdout",
          "text": [
            "0    1\n",
            "1    7\n",
            "2    2\n",
            "dtype: int64\n"
          ]
        }
      ]
    },
    {
      "cell_type": "markdown",
      "source": [
        "etiquetas: si no se especifica nada mas, los valores se etiquetan con su numero de indice, el primer valor tiene el indice 0, el segundo valor tiene el indice 1, etc.\n",
        "\n",
        "ejemplo: debuelve el primer valor de la serie."
      ],
      "metadata": {
        "id": "SEVEZpmaYk_m"
      }
    },
    {
      "cell_type": "code",
      "source": [
        "import pandas as pd\n",
        "a=[1,7,2]\n",
        "myvar=pd.Series(a)\n",
        "print(myvar)\n",
        "print(myvar[0])"
      ],
      "metadata": {
        "colab": {
          "base_uri": "https://localhost:8080/"
        },
        "id": "tsDJ9SBIZCy_",
        "outputId": "83d45e55-7d84-4154-ab71-69fd2ec490c6"
      },
      "execution_count": 7,
      "outputs": [
        {
          "output_type": "stream",
          "name": "stdout",
          "text": [
            "0    1\n",
            "1    7\n",
            "2    2\n",
            "dtype: int64\n",
            "1\n"
          ]
        }
      ]
    },
    {
      "cell_type": "markdown",
      "source": [
        "crear etiqueta\n",
        "\n",
        "con el argumento index, podemos nombrar nuestras propias etiquetas.\n",
        "\n",
        "ejemplo: crea tus propias etiquetas"
      ],
      "metadata": {
        "id": "5RM5QHxaZ3l-"
      }
    },
    {
      "cell_type": "code",
      "source": [
        "import pandas as pd\n",
        "a=[1,7,2]\n",
        "myvar=pd.Series(a)\n",
        "print(myvar)\n",
        "print(myvar[0])\n",
        "myvar=pd.Series(a,index=[\"x\",\"y\",\"z\"])\n",
        "print(myvar)"
      ],
      "metadata": {
        "colab": {
          "base_uri": "https://localhost:8080/"
        },
        "id": "j_YnnM4saRIN",
        "outputId": "0716502e-3beb-4824-8e16-5760f263fa58"
      },
      "execution_count": 8,
      "outputs": [
        {
          "output_type": "stream",
          "name": "stdout",
          "text": [
            "0    1\n",
            "1    7\n",
            "2    2\n",
            "dtype: int64\n",
            "1\n",
            "x    1\n",
            "y    7\n",
            "z    2\n",
            "dtype: int64\n"
          ]
        }
      ]
    },
    {
      "cell_type": "markdown",
      "source": [
        "cuando hayamos creado9 etiquetas, podemos acceder a un elemento haciendo referencia a su etiqueta.\n",
        "\n",
        "\n",
        "ejemplo: devuelve el valor de y"
      ],
      "metadata": {
        "id": "nNY9GL_ja8EO"
      }
    },
    {
      "cell_type": "code",
      "source": [
        "import pandas as pd\n",
        "a=[1,7,2]\n",
        "myvar=pd.Series(a,index=[\"x\",\"y\",\"z\"])\n",
        "print(myvar)\n",
        "print(myvar[\"y\"])"
      ],
      "metadata": {
        "colab": {
          "base_uri": "https://localhost:8080/"
        },
        "id": "N3BPxrDtbQJG",
        "outputId": "8cf21b3c-c476-4dbd-a107-f3d26ebdc951"
      },
      "execution_count": 9,
      "outputs": [
        {
          "output_type": "stream",
          "name": "stdout",
          "text": [
            "x    1\n",
            "y    7\n",
            "z    2\n",
            "dtype: int64\n",
            "7\n"
          ]
        }
      ]
    },
    {
      "cell_type": "markdown",
      "source": [
        "objetos clave/valor  como serie.\n",
        "\n",
        "tambien podemos utilizar un objeto clave/valor como un deccionario, al crear una serie.\n",
        "\n",
        "ejemplo:crea una serie pandas basica y apartir de un diccionario."
      ],
      "metadata": {
        "id": "q4hngUCNbdse"
      }
    },
    {
      "cell_type": "code",
      "source": [
        "import pandas as pd\n",
        "calories={\"day1\":420,\"day2\":380,\"day3\":390}\n",
        "myvar=pd.Series(calories)\n",
        "print(myvar)"
      ],
      "metadata": {
        "colab": {
          "base_uri": "https://localhost:8080/"
        },
        "id": "zQTOkAINb-IO",
        "outputId": "c4f1e7ee-d465-43bf-9b6b-c96a94d0dd08"
      },
      "execution_count": 10,
      "outputs": [
        {
          "output_type": "stream",
          "name": "stdout",
          "text": [
            "day1    420\n",
            "day2    380\n",
            "day3    390\n",
            "dtype: int64\n"
          ]
        }
      ]
    },
    {
      "cell_type": "markdown",
      "source": [
        "NOTA: las claves de diccionario se convierten en las etiquetas.\n",
        "\n",
        "para selleccionar elementos del diccionario utilice el argumento index y especifique el elemento que desea incluir en la serie.\n",
        "\n",
        "\n",
        "ejemplo:crea una serie utilizando los datos del dia 1 y del dia 2."
      ],
      "metadata": {
        "id": "_2xt_I96cNTP"
      }
    },
    {
      "cell_type": "code",
      "source": [
        "import pandas as pd\n",
        "calories={\"day1\":420,\"day2\":380,\"day3\":390}\n",
        "myvar=pd.Series(calories,index=[\"day1\",\"day2\"])\n",
        "print(myvar)"
      ],
      "metadata": {
        "colab": {
          "base_uri": "https://localhost:8080/"
        },
        "id": "5PY04KqZco5_",
        "outputId": "a55206bd-b4fd-4fac-bd61-952c65912b2e"
      },
      "execution_count": 11,
      "outputs": [
        {
          "output_type": "stream",
          "name": "stdout",
          "text": [
            "day1    420\n",
            "day2    380\n",
            "dtype: int64\n"
          ]
        }
      ]
    },
    {
      "cell_type": "markdown",
      "source": [
        "marca de datos\n",
        "\n",
        "\n",
        "los conjuntos de datos en pandas pueden ser tablas multidimensionales, llamadas datas frames. las serie el como una columna, un data frames el como una columna."
      ],
      "metadata": {
        "id": "-3hQLMLRdPDv"
      }
    },
    {
      "cell_type": "code",
      "source": [
        "import pandas as pd\n",
        "data={\n",
        "    \"calories\":[420,380,390],\n",
        "    \"duration\":[50,40,45]\n",
        "}\n",
        "myvar=pd.DataFrame(data)\n",
        "print(myvar)\n",
        "\n",
        ""
      ],
      "metadata": {
        "colab": {
          "base_uri": "https://localhost:8080/"
        },
        "id": "Xzz2ynnXdo4u",
        "outputId": "10b4d596-176e-4e63-f7f1-7b386ec05050"
      },
      "execution_count": 15,
      "outputs": [
        {
          "output_type": "stream",
          "name": "stdout",
          "text": [
            "   calories  duration\n",
            "0       420        50\n",
            "1       380        40\n",
            "2       390        45\n"
          ]
        }
      ]
    },
    {
      "cell_type": "markdown",
      "source": [
        "¿una serie es como un arreglo en una tabla? no, es como una columna."
      ],
      "metadata": {
        "id": "ZnHrl84veyeH"
      }
    }
  ]
}